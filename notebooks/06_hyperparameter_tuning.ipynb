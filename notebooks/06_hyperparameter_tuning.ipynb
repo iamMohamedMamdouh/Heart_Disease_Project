{
 "cells": [
  {
   "metadata": {
    "ExecuteTime": {
     "end_time": "2025-07-14T23:44:54.733949Z",
     "start_time": "2025-07-14T23:44:53.287805Z"
    }
   },
   "cell_type": "code",
   "source": [
    "import pandas as pd\n",
    "from sklearn.model_selection import train_test_split\n",
    "from sklearn.preprocessing import StandardScaler\n",
    "\n",
    "df = pd.read_csv(\"D:/Coding/Python/Heart_Disease_Project/heart+disease/heart_disease.csv\")\n",
    "X = df.drop(\"target\", axis=1)\n",
    "y = df[\"target\"]\n",
    "\n",
    "scaler = StandardScaler()\n",
    "X_scaled = scaler.fit_transform(X)\n",
    "X_train, X_test, y_train, y_test = train_test_split(X_scaled, y, test_size=0.2, random_state=42, stratify=y)"
   ],
   "id": "c5094c3fd3e44c",
   "outputs": [],
   "execution_count": 1
  },
  {
   "metadata": {
    "ExecuteTime": {
     "end_time": "2025-07-14T23:45:05.043469Z",
     "start_time": "2025-07-14T23:44:56.012858Z"
    }
   },
   "cell_type": "code",
   "source": [
    "from sklearn.ensemble import RandomForestClassifier\n",
    "from sklearn.model_selection import GridSearchCV\n",
    "\n",
    "rf = RandomForestClassifier(random_state=42)\n",
    "param_grid = {\n",
    "    'n_estimators': [50, 100, 200],\n",
    "    'max_depth': [4, 6, 10, None],\n",
    "    'min_samples_split': [2, 5, 10]\n",
    "}\n",
    "\n",
    "grid_search = GridSearchCV(rf, param_grid, cv=5, scoring='accuracy', n_jobs=-1)\n",
    "grid_search.fit(X_train, y_train)\n",
    "\n",
    "print(\"Best Parameters: \", grid_search.best_params_)\n",
    "print(\"Best Accuracy: \", grid_search.best_score_)"
   ],
   "id": "551db6a79f9239f3",
   "outputs": [
    {
     "name": "stdout",
     "output_type": "stream",
     "text": [
      "Best Parameters:  {'max_depth': 4, 'min_samples_split': 10, 'n_estimators': 50}\n",
      "Best Accuracy:  0.8432624113475178\n"
     ]
    }
   ],
   "execution_count": 2
  },
  {
   "metadata": {
    "ExecuteTime": {
     "end_time": "2025-07-14T23:45:14.515778Z",
     "start_time": "2025-07-14T23:45:14.076390Z"
    }
   },
   "cell_type": "code",
   "source": [
    "from sklearn.svm import SVC\n",
    "from sklearn.model_selection import RandomizedSearchCV\n",
    "from scipy.stats import uniform\n",
    "\n",
    "svc = SVC(probability=True)\n",
    "param_dist = {\n",
    "    'C': uniform(0.1, 10),\n",
    "    'gamma': ['scale', 'auto'],\n",
    "    'kernel': ['linear', 'rbf', 'poly']\n",
    "}\n",
    "\n",
    "random_search = RandomizedSearchCV(svc, param_distributions=param_dist, n_iter=20,\n",
    "                                   scoring='accuracy', cv=5, random_state=42, n_jobs=-1)\n",
    "random_search.fit(X_train, y_train)\n",
    "\n",
    "print(\"Best Parameters: \", random_search.best_params_)\n",
    "print(\"Best Accuracy: \", random_search.best_score_)"
   ],
   "id": "c3165a0fefc47b86",
   "outputs": [
    {
     "name": "stdout",
     "output_type": "stream",
     "text": [
      "Best Parameters:  {'C': np.float64(7.41993941811405), 'gamma': 'scale', 'kernel': 'linear'}\n",
      "Best Accuracy:  0.826418439716312\n"
     ]
    }
   ],
   "execution_count": 3
  },
  {
   "metadata": {
    "ExecuteTime": {
     "end_time": "2025-07-14T23:45:21.227990Z",
     "start_time": "2025-07-14T23:45:21.183655Z"
    }
   },
   "cell_type": "code",
   "source": [
    "from sklearn.metrics import classification_report\n",
    "\n",
    "rf_best = grid_search.best_estimator_\n",
    "y_pred_rf = rf_best.predict(X_test)\n",
    "print(\"Random Forest - performance after modification: \")\n",
    "print(classification_report(y_test, y_pred_rf))\n",
    "\n",
    "svm_best = random_search.best_estimator_\n",
    "y_pred_svm = svm_best.predict(X_test)\n",
    "print(\"SVM - performance after modification: \")\n",
    "print(classification_report(y_test, y_pred_svm))"
   ],
   "id": "70b5fbc986dd8fd2",
   "outputs": [
    {
     "name": "stdout",
     "output_type": "stream",
     "text": [
      "Random Forest - performance after modification: \n",
      "              precision    recall  f1-score   support\n",
      "\n",
      "           0       0.81      0.94      0.87        32\n",
      "           1       0.91      0.75      0.82        28\n",
      "\n",
      "    accuracy                           0.85        60\n",
      "   macro avg       0.86      0.84      0.85        60\n",
      "weighted avg       0.86      0.85      0.85        60\n",
      "\n",
      "SVM - performance after modification: \n",
      "              precision    recall  f1-score   support\n",
      "\n",
      "           0       0.83      0.91      0.87        32\n",
      "           1       0.88      0.79      0.83        28\n",
      "\n",
      "    accuracy                           0.85        60\n",
      "   macro avg       0.85      0.85      0.85        60\n",
      "weighted avg       0.85      0.85      0.85        60\n",
      "\n"
     ]
    }
   ],
   "execution_count": 4
  },
  {
   "metadata": {
    "ExecuteTime": {
     "end_time": "2025-07-14T23:51:48.895033Z",
     "start_time": "2025-07-14T23:51:48.853557Z"
    }
   },
   "cell_type": "code",
   "source": [
    "# Save Pipeline #\n",
    "import joblib\n",
    "from sklearn.pipeline import Pipeline\n",
    "from sklearn.preprocessing import StandardScaler\n",
    "from sklearn.svm import SVC\n",
    "import os\n",
    "\n",
    "final_model = Pipeline([\n",
    "    ('scaler', StandardScaler()),\n",
    "    ('classifier', SVC(kernel='rbf', C=1, probability=True))\n",
    "])\n",
    "\n",
    "final_model.fit(X, y)\n",
    "\n",
    "os.makedirs(\"D:\\Coding\\Python\\Heart_Disease_Project\\models\", exist_ok=True)\n",
    "joblib.dump(final_model, \"D:/Coding/Python/Heart_Disease_Project/models/final_model.pkl\")\n",
    "\n",
    "print(\"The model has been successfully saved\")"
   ],
   "id": "35d06ce65d5a8244",
   "outputs": [
    {
     "name": "stdout",
     "output_type": "stream",
     "text": [
      "The model has been successfully saved\n"
     ]
    }
   ],
   "execution_count": 9
  },
  {
   "metadata": {},
   "cell_type": "code",
   "outputs": [],
   "execution_count": null,
   "source": "",
   "id": "bb692d7dbe59e131"
  }
 ],
 "metadata": {
  "kernelspec": {
   "display_name": "Python 3",
   "language": "python",
   "name": "python3"
  },
  "language_info": {
   "codemirror_mode": {
    "name": "ipython",
    "version": 2
   },
   "file_extension": ".py",
   "mimetype": "text/x-python",
   "name": "python",
   "nbconvert_exporter": "python",
   "pygments_lexer": "ipython2",
   "version": "2.7.6"
  }
 },
 "nbformat": 4,
 "nbformat_minor": 5
}
